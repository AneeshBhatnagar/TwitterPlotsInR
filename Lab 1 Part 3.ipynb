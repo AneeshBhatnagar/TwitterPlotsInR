{
 "cells": [
  {
   "cell_type": "markdown",
   "metadata": {},
   "source": [
    "# Fetching and Displaying Twitter Trends\n",
    "A R Notebook to fetch and display the trends at any location entered by the user. It makes use of the twitteR library to fetch the trends and the ggmap library to get the latitude and longitude of the entered location by the user, if latitude and longitude are not provided by the user."
   ]
  },
  {
   "cell_type": "code",
   "execution_count": 1,
   "metadata": {
    "collapsed": false
   },
   "outputs": [
    {
     "name": "stderr",
     "output_type": "stream",
     "text": [
      "Loading required package: ggplot2\n"
     ]
    }
   ],
   "source": [
    "#Importing the required R libraries\n",
    "library(twitteR)\n",
    "library(ggmap)"
   ]
  },
  {
   "cell_type": "code",
   "execution_count": 2,
   "metadata": {
    "collapsed": false
   },
   "outputs": [
    {
     "name": "stdout",
     "output_type": "stream",
     "text": [
      "[1] \"Using direct authentication\"\n"
     ]
    }
   ],
   "source": [
    "#Twitter Setup\n",
    "setup_twitter_oauth(\"yiYmkK3D1Lkce9KH37Q8RQXdz\", \"VLNYdjRXNQ3Tp6Mo5k7YEA9x8NPHdtADIRRM8DhM6Xv8Sx8quz\", \"1605909084-OcgJIf5nid4Axf6QZSbPGKIhQMyWwm9v73DjxXC\", \"OK1I2aSsjvbjP1erIAw4a3hB9B6el9YdKoA5XYZ6zXXya\")"
   ]
  },
  {
   "cell_type": "code",
   "execution_count": 11,
   "metadata": {
    "collapsed": false
   },
   "outputs": [],
   "source": [
    "#Options to load data from Place name or Place coordinates\n",
    "#Option = 1 for place name and option = 2 for coordinates\n",
    "option <- 2\n",
    "if (option == 1){\n",
    "    location <- \"Boston\"\n",
    "    location_code <- geocode(location = location, source = \"dsk\")\n",
    "}else if(option == 2){\n",
    "    location_code$lon <- -73.9926\n",
    "    location_code$lat <- 40.74218\n",
    "}"
   ]
  },
  {
   "cell_type": "code",
   "execution_count": 16,
   "metadata": {
    "collapsed": false
   },
   "outputs": [],
   "source": [
    "#Get location information for closest trends\n",
    "nearest <- closestTrendLocations(lat = location_code$lat, long = location_code$lon)"
   ]
  },
  {
   "cell_type": "code",
   "execution_count": 19,
   "metadata": {
    "collapsed": false
   },
   "outputs": [],
   "source": [
    "#Find trends at the desired place and display as a string message\n",
    "trends <- getTrends(woeid = nearest$woeid, exclude = NULL)\n",
    "trends <- trends$name[1:10] #Getting the top 10 trend names\n",
    "output <- \"The top 10 trends at\"\n",
    "output <- paste(output, nearest$name, \"are\", sep=\" \")\n",
    "output_str <- paste(trends, collapse = \", \")\n",
    "output <- paste(output, output_str, sep = \" \")"
   ]
  },
  {
   "cell_type": "code",
   "execution_count": 21,
   "metadata": {
    "collapsed": false
   },
   "outputs": [
    {
     "name": "stdout",
     "output_type": "stream",
     "text": [
      "[1] \"The top 10 trends at New York are #HTGAWM, #Scandal, #GreysAnatomy, #Riverdale, #hurtbae, Kylie Lip Kits, Marcus Smart, Jimmy Butler, Darrelle Revis, Nicole Bass\"\n"
     ]
    }
   ],
   "source": [
    "#Display the top trends at the entered location\n",
    "print(output)"
   ]
  }
 ],
 "metadata": {
  "kernelspec": {
   "display_name": "R",
   "language": "R",
   "name": "ir"
  },
  "language_info": {
   "codemirror_mode": "r",
   "file_extension": ".r",
   "mimetype": "text/x-r-source",
   "name": "R",
   "pygments_lexer": "r",
   "version": "3.3.2"
  }
 },
 "nbformat": 4,
 "nbformat_minor": 2
}
